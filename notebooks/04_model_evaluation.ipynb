# Load test data and model
df = pd.read_csv('../datasets/processed/house_prices_clean.csv')
X = df[['sqft_living', 'bedrooms', 'bathrooms', 'floors', 'house_age']]
y = df['price']

model = joblib.load('../models/house_price_model.pkl')

# Make predictions
y_pred = model.predict(X)

# Evaluate model
mae = mean_absolute_error(y, y_pred)
mse = mean_squared_error(y, y_pred)
r2 = r2_score(y, y_pred)

print(f"Mean Absolute Error (MAE): {mae:.2f}")
print(f"Mean Squared Error (MSE): {mse:.2f}")
print(f"R² Score: {r2:.2f}")

# Plot real vs predicted values
plt.figure(figsize=(8,5))
plt.scatter(y, y_pred, alpha=0.5)
plt.xlabel("Actual Prices")
plt.ylabel("Predicted Prices")
plt.title("Actual vs Predicted House Prices")
plt.show()

