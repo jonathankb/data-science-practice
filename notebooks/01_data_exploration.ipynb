# Importing libraries
import pandas as pd
import matplotlib.pyplot as plt
import seaborn as sns

# Load dataset
df = pd.read_csv('../datasets/raw/house_prices_raw.csv')

# Display first rows
df.head()

# Checking missing values
df.isnull().sum()

