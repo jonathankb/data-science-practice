# Importing libraries
import pandas as pd
import matplotlib.pyplot as plt
import seaborn as sns

# Load dataset
df = pd.read_csv('../datasets/raw/house_prices_raw.csv')

# Display first rows
df.head()

# Checking missing values
df.isnull().sum()

plt.figure(figsize=(8, 5))
sns.histplot(df['price'], bins=30, kde=True)
plt.xlabel('House Price ($)')
plt.ylabel('Frequency')
plt.title('Distribution of House Prices')
plt.show()

plt.figure(figsize=(10,6))
sns.heatmap(df.corr(), annot=True, cmap='coolwarm', fmt=".2f")
plt.title("Feature Correlation")
plt.show()
