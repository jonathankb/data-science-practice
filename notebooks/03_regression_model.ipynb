from sklearn.model_selection import train_test_split
from sklearn.linear_model import LinearRegression
from sklearn.metrics import mean_absolute_error, mean_squared_error, r2_score

# Load cleaned data
df = pd.read_csv('../datasets/processed/house_prices_clean.csv')

# Select features and target variable
X = df[['sqft_living', 'bedrooms', 'bathrooms', 'floors', 'house_age']]
y = df['price']

# Split data into train and test
X_train, X_test, y_train, y_test = train_test_split(X, y, test_size=0.2, random_state=42)

# Train Linear Regression model
model = LinearRegression()
model.fit(X_train, y_train)

# Save the model
import joblib
joblib.dump(model, '../models/house_price_model.pkl')

print("Model trained and saved!")

