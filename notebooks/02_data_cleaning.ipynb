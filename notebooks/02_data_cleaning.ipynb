# Handling missing values
df['sqft_living'].fillna(df['sqft_living'].median(), inplace=True)

# Convert 'waterfront' column to categorical
df['waterfront'] = df['waterfront'].map({0: 'No', 1: 'Yes'})

# Create new feature: house age
df['house_age'] = 2024 - df['year_built']

# Save cleaned data
df.to_csv('../datasets/processed/house_prices_clean.csv', index=False)
print("Data cleaned and saved!")

